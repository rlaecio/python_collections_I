{
  "nbformat": 4,
  "nbformat_minor": 0,
  "metadata": {
    "colab": {
      "name": "Introdução a collections",
      "provenance": [],
      "authorship_tag": "ABX9TyOw0Kvr1DfDNoekMsBwPmUO",
      "include_colab_link": true
    },
    "kernelspec": {
      "name": "python3",
      "display_name": "Python 3"
    }
  },
  "cells": [
    {
      "cell_type": "markdown",
      "metadata": {
        "id": "view-in-github",
        "colab_type": "text"
      },
      "source": [
        "<a href=\"https://colab.research.google.com/github/rlaecio/python_collections_I/blob/main/Introdu%C3%A7%C3%A3o_a_collections.ipynb\" target=\"_parent\"><img src=\"https://colab.research.google.com/assets/colab-badge.svg\" alt=\"Open In Colab\"/></a>"
      ]
    },
    {
      "cell_type": "markdown",
      "metadata": {
        "id": "zZJu317V3QlL"
      },
      "source": [
        ""
      ]
    },
    {
      "cell_type": "code",
      "metadata": {
        "colab": {
          "base_uri": "https://localhost:8080/"
        },
        "id": "_k7eIgVA2CWY",
        "outputId": "d8ec3e3a-6c0c-42c7-c412-e57de4098e90"
      },
      "source": [
        "idade1 = 39\n",
        "idade2 = 30\n",
        "idade3 = 27\n",
        "idade4 = 18\n",
        "\n",
        "print(idade1)\n",
        "print(idade2)\n",
        "print(idade3)\n",
        "print(idade4)\n",
        "\n"
      ],
      "execution_count": null,
      "outputs": [
        {
          "output_type": "stream",
          "text": [
            "39\n",
            "30\n",
            "27\n",
            "18\n"
          ],
          "name": "stdout"
        }
      ]
    },
    {
      "cell_type": "code",
      "metadata": {
        "id": "3G65gtG6312E"
      },
      "source": [
        "idades = [39, 30, 27, 18] "
      ],
      "execution_count": 30,
      "outputs": []
    },
    {
      "cell_type": "code",
      "metadata": {
        "colab": {
          "base_uri": "https://localhost:8080/"
        },
        "id": "7S2udD6H5-Qu",
        "outputId": "fbc6a2bb-1242-4d1e-d8dd-b015b94d204e"
      },
      "source": [
        "type(idades)"
      ],
      "execution_count": 7,
      "outputs": [
        {
          "output_type": "execute_result",
          "data": {
            "text/plain": [
              "list"
            ]
          },
          "metadata": {
            "tags": []
          },
          "execution_count": 7
        }
      ]
    },
    {
      "cell_type": "code",
      "metadata": {
        "colab": {
          "base_uri": "https://localhost:8080/"
        },
        "id": "Rzs_WkUv6AfH",
        "outputId": "30ad05d7-530f-45a2-e8e8-228622b20364"
      },
      "source": [
        "len(idades)"
      ],
      "execution_count": 8,
      "outputs": [
        {
          "output_type": "execute_result",
          "data": {
            "text/plain": [
              "4"
            ]
          },
          "metadata": {
            "tags": []
          },
          "execution_count": 8
        }
      ]
    },
    {
      "cell_type": "code",
      "metadata": {
        "colab": {
          "base_uri": "https://localhost:8080/"
        },
        "id": "JE7ie1Zj6Lf1",
        "outputId": "3259f3f0-45e1-4863-b811-79f46765b714"
      },
      "source": [
        "idades[0]"
      ],
      "execution_count": 9,
      "outputs": [
        {
          "output_type": "execute_result",
          "data": {
            "text/plain": [
              "39"
            ]
          },
          "metadata": {
            "tags": []
          },
          "execution_count": 9
        }
      ]
    },
    {
      "cell_type": "code",
      "metadata": {
        "colab": {
          "base_uri": "https://localhost:8080/"
        },
        "id": "1SGHLdNE6O-5",
        "outputId": "65215567-8752-481e-d74c-52badd46a067"
      },
      "source": [
        "idades"
      ],
      "execution_count": 10,
      "outputs": [
        {
          "output_type": "execute_result",
          "data": {
            "text/plain": [
              "[39, 30, 27, 18]"
            ]
          },
          "metadata": {
            "tags": []
          },
          "execution_count": 10
        }
      ]
    },
    {
      "cell_type": "code",
      "metadata": {
        "colab": {
          "base_uri": "https://localhost:8080/"
        },
        "id": "pUsQ45CN6QyO",
        "outputId": "b34f6b8a-ef88-4c55-8aac-c75e2cb20da1"
      },
      "source": [
        "print(idades[1])\n",
        "print(idades[2])\n",
        "print(idades[3])"
      ],
      "execution_count": 13,
      "outputs": [
        {
          "output_type": "stream",
          "text": [
            "30\n",
            "27\n",
            "18\n"
          ],
          "name": "stdout"
        }
      ]
    },
    {
      "cell_type": "code",
      "metadata": {
        "id": "8jzGePzl6UyJ"
      },
      "source": [
        "idades.append(15)"
      ],
      "execution_count": 31,
      "outputs": []
    },
    {
      "cell_type": "code",
      "metadata": {
        "colab": {
          "base_uri": "https://localhost:8080/"
        },
        "id": "VKZmm_0y7LnV",
        "outputId": "67b25efa-40ae-4d51-9583-a3645cbc031b"
      },
      "source": [
        "idades"
      ],
      "execution_count": 15,
      "outputs": [
        {
          "output_type": "execute_result",
          "data": {
            "text/plain": [
              "[39, 30, 27, 18, 15]"
            ]
          },
          "metadata": {
            "tags": []
          },
          "execution_count": 15
        }
      ]
    },
    {
      "cell_type": "code",
      "metadata": {
        "colab": {
          "base_uri": "https://localhost:8080/",
          "height": 164
        },
        "id": "6i7Qe5ES7NBS",
        "outputId": "81962d2c-057b-4184-c51f-7019f9fb538e"
      },
      "source": [
        "idades[5]"
      ],
      "execution_count": 16,
      "outputs": [
        {
          "output_type": "error",
          "ename": "IndexError",
          "evalue": "ignored",
          "traceback": [
            "\u001b[0;31m---------------------------------------------------------------------------\u001b[0m",
            "\u001b[0;31mIndexError\u001b[0m                                Traceback (most recent call last)",
            "\u001b[0;32m<ipython-input-16-9afc071113c0>\u001b[0m in \u001b[0;36m<module>\u001b[0;34m()\u001b[0m\n\u001b[0;32m----> 1\u001b[0;31m \u001b[0midades\u001b[0m\u001b[0;34m[\u001b[0m\u001b[0;36m5\u001b[0m\u001b[0;34m]\u001b[0m\u001b[0;34m\u001b[0m\u001b[0;34m\u001b[0m\u001b[0m\n\u001b[0m",
            "\u001b[0;31mIndexError\u001b[0m: list index out of range"
          ]
        }
      ]
    },
    {
      "cell_type": "code",
      "metadata": {
        "colab": {
          "base_uri": "https://localhost:8080/"
        },
        "id": "AMr5bx-T7QaC",
        "outputId": "7900662e-e474-4e1c-dcac-20bdbec5702e"
      },
      "source": [
        "for idade in idades:\n",
        "  print(idade)"
      ],
      "execution_count": 17,
      "outputs": [
        {
          "output_type": "stream",
          "text": [
            "39\n",
            "30\n",
            "27\n",
            "18\n",
            "15\n"
          ],
          "name": "stdout"
        }
      ]
    },
    {
      "cell_type": "code",
      "metadata": {
        "id": "AKdAcTd-8o-d"
      },
      "source": [
        "idades.remove(30)"
      ],
      "execution_count": 18,
      "outputs": []
    },
    {
      "cell_type": "code",
      "metadata": {
        "colab": {
          "base_uri": "https://localhost:8080/",
          "height": 164
        },
        "id": "ZQiyub9M8rEL",
        "outputId": "cf90f29a-9ccc-4ecd-b653-8e275699903a"
      },
      "source": [
        "idades.remove(30)"
      ],
      "execution_count": 19,
      "outputs": [
        {
          "output_type": "error",
          "ename": "ValueError",
          "evalue": "ignored",
          "traceback": [
            "\u001b[0;31m---------------------------------------------------------------------------\u001b[0m",
            "\u001b[0;31mValueError\u001b[0m                                Traceback (most recent call last)",
            "\u001b[0;32m<ipython-input-19-4f77f6ee3785>\u001b[0m in \u001b[0;36m<module>\u001b[0;34m()\u001b[0m\n\u001b[0;32m----> 1\u001b[0;31m \u001b[0midades\u001b[0m\u001b[0;34m.\u001b[0m\u001b[0mremove\u001b[0m\u001b[0;34m(\u001b[0m\u001b[0;36m30\u001b[0m\u001b[0;34m)\u001b[0m\u001b[0;34m\u001b[0m\u001b[0;34m\u001b[0m\u001b[0m\n\u001b[0m",
            "\u001b[0;31mValueError\u001b[0m: list.remove(x): x not in list"
          ]
        }
      ]
    },
    {
      "cell_type": "code",
      "metadata": {
        "id": "XFzjjwKG8vnV"
      },
      "source": [
        "idades.append(15)"
      ],
      "execution_count": 20,
      "outputs": []
    },
    {
      "cell_type": "code",
      "metadata": {
        "colab": {
          "base_uri": "https://localhost:8080/"
        },
        "id": "g5ST5NQi8z4G",
        "outputId": "8489873b-b635-465b-db6c-d448ca481231"
      },
      "source": [
        "idades"
      ],
      "execution_count": 21,
      "outputs": [
        {
          "output_type": "execute_result",
          "data": {
            "text/plain": [
              "[39, 27, 18, 15, 15]"
            ]
          },
          "metadata": {
            "tags": []
          },
          "execution_count": 21
        }
      ]
    },
    {
      "cell_type": "code",
      "metadata": {
        "id": "FIGZ8qlF81Cc"
      },
      "source": [
        "idades.remove(15)"
      ],
      "execution_count": 22,
      "outputs": []
    },
    {
      "cell_type": "code",
      "metadata": {
        "colab": {
          "base_uri": "https://localhost:8080/"
        },
        "id": "u03uOo-Y86vd",
        "outputId": "2fefdfca-6675-4425-da2c-414a996e8b52"
      },
      "source": [
        "idades.append(27)\n",
        "idades.remove(27)\n",
        "idades"
      ],
      "execution_count": 23,
      "outputs": [
        {
          "output_type": "execute_result",
          "data": {
            "text/plain": [
              "[39, 18, 15, 27]"
            ]
          },
          "metadata": {
            "tags": []
          },
          "execution_count": 23
        }
      ]
    },
    {
      "cell_type": "code",
      "metadata": {
        "id": "gRvYi_xv9AQD"
      },
      "source": [
        "idades.clear()"
      ],
      "execution_count": 26,
      "outputs": []
    },
    {
      "cell_type": "code",
      "metadata": {
        "colab": {
          "base_uri": "https://localhost:8080/"
        },
        "id": "0KB6kcTm9bFW",
        "outputId": "4148fe97-7ea5-449e-ab1a-597e12d3889e"
      },
      "source": [
        "\n",
        "idades"
      ],
      "execution_count": 27,
      "outputs": [
        {
          "output_type": "execute_result",
          "data": {
            "text/plain": [
              "[]"
            ]
          },
          "metadata": {
            "tags": []
          },
          "execution_count": 27
        }
      ]
    },
    {
      "cell_type": "code",
      "metadata": {
        "colab": {
          "base_uri": "https://localhost:8080/"
        },
        "id": "AxBmoEnI9cBu",
        "outputId": "31c33cb2-cb35-4fea-c0d9-2aab14e2f532"
      },
      "source": [
        "28 in idades\n"
      ],
      "execution_count": 28,
      "outputs": [
        {
          "output_type": "execute_result",
          "data": {
            "text/plain": [
              "False"
            ]
          },
          "metadata": {
            "tags": []
          },
          "execution_count": 28
        }
      ]
    },
    {
      "cell_type": "code",
      "metadata": {
        "colab": {
          "base_uri": "https://localhost:8080/"
        },
        "id": "zzYJfYvo_He5",
        "outputId": "1fe6e9d5-af03-4491-c5ee-ddc10e8b91dc"
      },
      "source": [
        "15 in idades"
      ],
      "execution_count": 32,
      "outputs": [
        {
          "output_type": "execute_result",
          "data": {
            "text/plain": [
              "True"
            ]
          },
          "metadata": {
            "tags": []
          },
          "execution_count": 32
        }
      ]
    },
    {
      "cell_type": "code",
      "metadata": {
        "id": "nBolMxiq_I9e"
      },
      "source": [
        "idades.insert(0,43)"
      ],
      "execution_count": 33,
      "outputs": []
    },
    {
      "cell_type": "code",
      "metadata": {
        "id": "Hc7rJUnL_3JS"
      },
      "source": [
        "idades.append([27, 29])"
      ],
      "execution_count": 34,
      "outputs": []
    },
    {
      "cell_type": "code",
      "metadata": {
        "colab": {
          "base_uri": "https://localhost:8080/"
        },
        "id": "I52aPSfUAA3L",
        "outputId": "f92dc40d-a930-49bf-8ed6-9d942ea3dc52"
      },
      "source": [
        "idades\n"
      ],
      "execution_count": 35,
      "outputs": [
        {
          "output_type": "execute_result",
          "data": {
            "text/plain": [
              "[43, 39, 30, 27, 18, 15, [27, 29]]"
            ]
          },
          "metadata": {
            "tags": []
          },
          "execution_count": 35
        }
      ]
    },
    {
      "cell_type": "code",
      "metadata": {
        "colab": {
          "base_uri": "https://localhost:8080/"
        },
        "id": "LzWPftLjABui",
        "outputId": "f1c75fbd-e02c-4a66-f128-8424e99f093e"
      },
      "source": [
        "for elemento in idades:\n",
        "  print(\"Recebi o elemento\", elemento)"
      ],
      "execution_count": 36,
      "outputs": [
        {
          "output_type": "stream",
          "text": [
            "Recebi o elemento 43\n",
            "Recebi o elemento 39\n",
            "Recebi o elemento 30\n",
            "Recebi o elemento 27\n",
            "Recebi o elemento 18\n",
            "Recebi o elemento 15\n",
            "Recebi o elemento [27, 29]\n"
          ],
          "name": "stdout"
        }
      ]
    },
    {
      "cell_type": "code",
      "metadata": {
        "colab": {
          "base_uri": "https://localhost:8080/"
        },
        "id": "sy1MMblUAG_F",
        "outputId": "c0901733-9477-47e3-f6dd-2211fe66cf75"
      },
      "source": [
        "idades = [43, 39, 30, 27, 18, 15]\n",
        "idades.extend([27, 29])\n",
        "idades"
      ],
      "execution_count": 42,
      "outputs": [
        {
          "output_type": "execute_result",
          "data": {
            "text/plain": [
              "[43, 39, 30, 27, 18, 15, 27, 29]"
            ]
          },
          "metadata": {
            "tags": []
          },
          "execution_count": 42
        }
      ]
    },
    {
      "cell_type": "code",
      "metadata": {
        "colab": {
          "base_uri": "https://localhost:8080/"
        },
        "id": "TgRHbQmgA7nf",
        "outputId": "68315037-5bf0-4deb-fe4a-67824cb9735b"
      },
      "source": [
        "for idade in idades:\n",
        "  print(idade +1)"
      ],
      "execution_count": 43,
      "outputs": [
        {
          "output_type": "stream",
          "text": [
            "44\n",
            "40\n",
            "31\n",
            "28\n",
            "19\n",
            "16\n",
            "28\n",
            "30\n"
          ],
          "name": "stdout"
        }
      ]
    },
    {
      "cell_type": "code",
      "metadata": {
        "colab": {
          "base_uri": "https://localhost:8080/"
        },
        "id": "ACDSqDGQDk0S",
        "outputId": "0b32753e-c7d2-4adc-e266-8f1d5db8e94e"
      },
      "source": [
        "idades_no_ano_que_vem = []\n",
        "for idade in idades:\n",
        "  idades_no_ano_que_vem.append(idade + 1)\n",
        "idades_no_ano_que_vem"
      ],
      "execution_count": 46,
      "outputs": [
        {
          "output_type": "execute_result",
          "data": {
            "text/plain": [
              "[44, 40, 31, 28, 19, 16, 28, 30]"
            ]
          },
          "metadata": {
            "tags": []
          },
          "execution_count": 46
        }
      ]
    },
    {
      "cell_type": "code",
      "metadata": {
        "colab": {
          "base_uri": "https://localhost:8080/"
        },
        "id": "slXZr67ID2sn",
        "outputId": "ef3742b2-0973-4cde-85bc-7c56c6d0f825"
      },
      "source": [
        "idades_no_ano_que_vem = [(idade + 1) for idade in idades]\n",
        "idades_no_ano_que_vem"
      ],
      "execution_count": 48,
      "outputs": [
        {
          "output_type": "execute_result",
          "data": {
            "text/plain": [
              "[44, 40, 31, 28, 19, 16, 28, 30]"
            ]
          },
          "metadata": {
            "tags": []
          },
          "execution_count": 48
        }
      ]
    },
    {
      "cell_type": "code",
      "metadata": {
        "colab": {
          "base_uri": "https://localhost:8080/"
        },
        "id": "wJedDI15EErV",
        "outputId": "791de49b-cced-42cc-b41f-e692bf8b480e"
      },
      "source": [
        "[(idade) for idade in idades if idade >21]"
      ],
      "execution_count": 49,
      "outputs": [
        {
          "output_type": "execute_result",
          "data": {
            "text/plain": [
              "[43, 39, 30, 27, 27, 29]"
            ]
          },
          "metadata": {
            "tags": []
          },
          "execution_count": 49
        }
      ]
    },
    {
      "cell_type": "code",
      "metadata": {
        "colab": {
          "base_uri": "https://localhost:8080/"
        },
        "id": "sw_1VbsYEd_u",
        "outputId": "ec8f9c92-46a8-4b74-e815-f84f1ed3f693"
      },
      "source": [
        "idades"
      ],
      "execution_count": 50,
      "outputs": [
        {
          "output_type": "execute_result",
          "data": {
            "text/plain": [
              "[43, 39, 30, 27, 18, 15, 27, 29]"
            ]
          },
          "metadata": {
            "tags": []
          },
          "execution_count": 50
        }
      ]
    },
    {
      "cell_type": "code",
      "metadata": {
        "colab": {
          "base_uri": "https://localhost:8080/"
        },
        "id": "2A_oZq5MEkE7",
        "outputId": "31892dac-1979-4c21-9c43-97d112f53fa8"
      },
      "source": [
        "def proximo_ano(idade):\n",
        "  return idade+1\n",
        "[proximo_ano(idade) for idade in idades if idade > 25]"
      ],
      "execution_count": 52,
      "outputs": [
        {
          "output_type": "execute_result",
          "data": {
            "text/plain": [
              "[44, 40, 31, 28, 28, 30]"
            ]
          },
          "metadata": {
            "tags": []
          },
          "execution_count": 52
        }
      ]
    },
    {
      "cell_type": "code",
      "metadata": {
        "id": "QfLDRt31E5m7"
      },
      "source": [
        "def faz_processamento_de_visualizacao(lista):\n",
        "  print(len(lista))\n",
        "  lista.append(13)"
      ],
      "execution_count": 55,
      "outputs": []
    },
    {
      "cell_type": "code",
      "metadata": {
        "colab": {
          "base_uri": "https://localhost:8080/"
        },
        "id": "biH_J4lbG9Al",
        "outputId": "91b0aa57-42fd-4dbb-c443-941ccd8f0d30"
      },
      "source": [
        "idades = [16,21,29,56,43]\n",
        "faz_processamento_de_visualizacao(idades)\n",
        "idades"
      ],
      "execution_count": 56,
      "outputs": [
        {
          "output_type": "stream",
          "text": [
            "5\n"
          ],
          "name": "stdout"
        },
        {
          "output_type": "execute_result",
          "data": {
            "text/plain": [
              "[16, 21, 29, 56, 43, 13]"
            ]
          },
          "metadata": {
            "tags": []
          },
          "execution_count": 56
        }
      ]
    },
    {
      "cell_type": "code",
      "metadata": {
        "id": "a6l0pMipHFZ5"
      },
      "source": [
        "def faz_processamento_de_visualizacao(lista = None):\n",
        "  if lista == None:\n",
        "    lista = list()\n",
        "  print(len(lista))\n",
        "  print(lista)\n",
        "  lista.append(13)\n",
        "\n"
      ],
      "execution_count": 83,
      "outputs": []
    },
    {
      "cell_type": "code",
      "metadata": {
        "colab": {
          "base_uri": "https://localhost:8080/"
        },
        "id": "awRcw1DDIvn-",
        "outputId": "3379fbb5-8c4d-44d5-de7b-b3639638140b"
      },
      "source": [
        "faz_processamento_de_visualizacao()"
      ],
      "execution_count": 84,
      "outputs": [
        {
          "output_type": "stream",
          "text": [
            "0\n",
            "[]\n"
          ],
          "name": "stdout"
        }
      ]
    },
    {
      "cell_type": "code",
      "metadata": {
        "colab": {
          "base_uri": "https://localhost:8080/"
        },
        "id": "kIF03-zIIxmq",
        "outputId": "5f5aafc8-5abe-4df5-c52c-0e0a44aae7b4"
      },
      "source": [
        "faz_processamento_de_visualizacao()"
      ],
      "execution_count": 85,
      "outputs": [
        {
          "output_type": "stream",
          "text": [
            "0\n",
            "[]\n"
          ],
          "name": "stdout"
        }
      ]
    },
    {
      "cell_type": "code",
      "metadata": {
        "colab": {
          "base_uri": "https://localhost:8080/"
        },
        "id": "2vH6r8gEI0z_",
        "outputId": "e3d86ed5-92cd-4e64-8527-06a3736bf1ae"
      },
      "source": [
        "faz_processamento_de_visualizacao()"
      ],
      "execution_count": 86,
      "outputs": [
        {
          "output_type": "stream",
          "text": [
            "0\n",
            "[]\n"
          ],
          "name": "stdout"
        }
      ]
    },
    {
      "cell_type": "code",
      "metadata": {
        "colab": {
          "base_uri": "https://localhost:8080/"
        },
        "id": "n-CrNca9JEWf",
        "outputId": "f824302e-5c23-4781-b6a8-0a88814457de"
      },
      "source": [
        "faz_processamento_de_visualizacao()"
      ],
      "execution_count": 87,
      "outputs": [
        {
          "output_type": "stream",
          "text": [
            "0\n",
            "[]\n"
          ],
          "name": "stdout"
        }
      ]
    },
    {
      "cell_type": "code",
      "metadata": {
        "colab": {
          "base_uri": "https://localhost:8080/"
        },
        "id": "9CDaAeCQI3wQ",
        "outputId": "6661ad84-cda7-4486-c2a8-a94afb4acd1d"
      },
      "source": [
        "faz_processamento_de_visualizacao()"
      ],
      "execution_count": 88,
      "outputs": [
        {
          "output_type": "stream",
          "text": [
            "0\n",
            "[]\n"
          ],
          "name": "stdout"
        }
      ]
    },
    {
      "cell_type": "code",
      "metadata": {
        "id": "eEU7gbTCJRlt"
      },
      "source": [
        ""
      ],
      "execution_count": null,
      "outputs": []
    },
    {
      "cell_type": "markdown",
      "metadata": {
        "id": "3NTi2N29Kac4"
      },
      "source": [
        "#Objetos próprios\n"
      ]
    },
    {
      "cell_type": "code",
      "metadata": {
        "id": "LmtuJZYmKenP"
      },
      "source": [
        "class ConstaCorrente:\n",
        "  def __init__(self, codigo):\n",
        "    self.codigo = codigo\n",
        "    self.saldo = 0\n",
        "  \n",
        "  def deposita(self, valor):\n",
        "    self.saldo += valor\n",
        "\n",
        "  def __str__(self):\n",
        "    return \"(codigo {} Saldo {})\".format(self.codigo, self.saldo)\n",
        "  "
      ],
      "execution_count": 89,
      "outputs": []
    },
    {
      "cell_type": "code",
      "metadata": {
        "colab": {
          "base_uri": "https://localhost:8080/"
        },
        "id": "wuA-HsWzK7OQ",
        "outputId": "8a4a29cf-3273-4b4f-ba07-1613dc72ef94"
      },
      "source": [
        "conta_do_gui = ConstaCorrente(15)\n",
        "print(conta_do_gui)"
      ],
      "execution_count": 90,
      "outputs": [
        {
          "output_type": "stream",
          "text": [
            "(codigo 15 Saldo 0)\n"
          ],
          "name": "stdout"
        }
      ]
    },
    {
      "cell_type": "code",
      "metadata": {
        "colab": {
          "base_uri": "https://localhost:8080/"
        },
        "id": "pSim1SjyLDth",
        "outputId": "85c2c949-1dd9-4cf9-b5aa-0c437b793968"
      },
      "source": [
        "conta_do_gui.deposita(500)\n",
        "print(conta_do_gui)"
      ],
      "execution_count": 91,
      "outputs": [
        {
          "output_type": "stream",
          "text": [
            "(codigo 15 Saldo 500)\n"
          ],
          "name": "stdout"
        }
      ]
    },
    {
      "cell_type": "code",
      "metadata": {
        "colab": {
          "base_uri": "https://localhost:8080/"
        },
        "id": "PaOdH3loLK-o",
        "outputId": "35fd28ea-c045-4776-f716-af9f3e64ad49"
      },
      "source": [
        "conta_da_dane = ConstaCorrente(47685)\n",
        "conta_da_dane.deposita(10000)\n",
        "print(conta_da_dane)"
      ],
      "execution_count": 93,
      "outputs": [
        {
          "output_type": "stream",
          "text": [
            "(codigo 47685 Saldo 10000)\n"
          ],
          "name": "stdout"
        }
      ]
    },
    {
      "cell_type": "code",
      "metadata": {
        "colab": {
          "base_uri": "https://localhost:8080/"
        },
        "id": "YI7W6jEfLZvc",
        "outputId": "c3e78c68-6cf1-4e4c-ec5c-590e8d7c360c"
      },
      "source": [
        "contas = [conta_da_dane, conta_do_gui]\n",
        "for conta in contas:\n",
        "  print(conta)"
      ],
      "execution_count": 96,
      "outputs": [
        {
          "output_type": "stream",
          "text": [
            "(codigo 47685 Saldo 10000)\n",
            "(codigo 15 Saldo 500)\n"
          ],
          "name": "stdout"
        }
      ]
    },
    {
      "cell_type": "code",
      "metadata": {
        "colab": {
          "base_uri": "https://localhost:8080/"
        },
        "id": "T_8YFWn-LnCX",
        "outputId": "3c9998b6-2151-4ff4-f37c-1f1d32649716"
      },
      "source": [
        "contas = [conta_da_dane, conta_do_gui, conta_da_dane]\n",
        "print(contas[0])\n",
        "print(contas[2])"
      ],
      "execution_count": 101,
      "outputs": [
        {
          "output_type": "stream",
          "text": [
            "(codigo 47685 Saldo 10000)\n",
            "(codigo 47685 Saldo 10000)\n"
          ],
          "name": "stdout"
        }
      ]
    },
    {
      "cell_type": "code",
      "metadata": {
        "id": "IdhGd1eGMm93"
      },
      "source": [
        "contas[2].deposita(500)"
      ],
      "execution_count": 102,
      "outputs": []
    },
    {
      "cell_type": "code",
      "metadata": {
        "colab": {
          "base_uri": "https://localhost:8080/"
        },
        "id": "LhRhd6ZzM7Bq",
        "outputId": "c6394400-74db-4fce-9cba-be82599f8293"
      },
      "source": [
        "print(contas[0])"
      ],
      "execution_count": 103,
      "outputs": [
        {
          "output_type": "stream",
          "text": [
            "(codigo 47685 Saldo 10500)\n"
          ],
          "name": "stdout"
        }
      ]
    },
    {
      "cell_type": "code",
      "metadata": {
        "colab": {
          "base_uri": "https://localhost:8080/"
        },
        "id": "kpQ8ABsbM-lc",
        "outputId": "8f279c8c-a33a-4869-e69f-eb92ccdf9da3"
      },
      "source": [
        "def deposita_para_todas(contas):\n",
        "  for conta in contas:\n",
        "    conta.deposita(100)\n",
        "contas = [conta_do_gui, conta_da_dane]\n",
        "print(contas[0], contas[1])\n",
        "\n",
        "deposita_para_todas(contas)\n",
        "print(contas[0], contas[1])\n"
      ],
      "execution_count": 105,
      "outputs": [
        {
          "output_type": "stream",
          "text": [
            "(codigo 15 Saldo 500) (codigo 47685 Saldo 10500)\n",
            "(codigo 15 Saldo 600) (codigo 47685 Saldo 10600)\n"
          ],
          "name": "stdout"
        }
      ]
    },
    {
      "cell_type": "code",
      "metadata": {
        "id": "XMuu3kfUPBj7"
      },
      "source": [
        "guilherme = ('Guilherme', 37, 1981)\n",
        "daniela = ('Daniela', 31, 1987)"
      ],
      "execution_count": 106,
      "outputs": []
    },
    {
      "cell_type": "code",
      "metadata": {
        "colab": {
          "base_uri": "https://localhost:8080/"
        },
        "id": "IVVF1skleewF",
        "outputId": "d9e88539-bcc8-461b-a50b-873a15ba0790"
      },
      "source": [
        "daniela"
      ],
      "execution_count": 107,
      "outputs": [
        {
          "output_type": "execute_result",
          "data": {
            "text/plain": [
              "('Daniela', 31, 1987)"
            ]
          },
          "metadata": {
            "tags": []
          },
          "execution_count": 107
        }
      ]
    },
    {
      "cell_type": "code",
      "metadata": {
        "colab": {
          "base_uri": "https://localhost:8080/"
        },
        "id": "Uz9e8GO-emQK",
        "outputId": "f45eb1f3-81b8-41dd-cf47-5cbd22e7d28e"
      },
      "source": [
        "type(daniela)"
      ],
      "execution_count": 108,
      "outputs": [
        {
          "output_type": "execute_result",
          "data": {
            "text/plain": [
              "tuple"
            ]
          },
          "metadata": {
            "tags": []
          },
          "execution_count": 108
        }
      ]
    },
    {
      "cell_type": "code",
      "metadata": {
        "colab": {
          "base_uri": "https://localhost:8080/",
          "height": 164
        },
        "id": "HNGWBosDeo7u",
        "outputId": "d410b3c2-69d4-4881-fb1e-99211ad61ecd"
      },
      "source": [
        "guilherme.append(345)\n"
      ],
      "execution_count": 109,
      "outputs": [
        {
          "output_type": "error",
          "ename": "AttributeError",
          "evalue": "ignored",
          "traceback": [
            "\u001b[0;31m---------------------------------------------------------------------------\u001b[0m",
            "\u001b[0;31mAttributeError\u001b[0m                            Traceback (most recent call last)",
            "\u001b[0;32m<ipython-input-109-e7e4647d847e>\u001b[0m in \u001b[0;36m<module>\u001b[0;34m()\u001b[0m\n\u001b[0;32m----> 1\u001b[0;31m \u001b[0mguilherme\u001b[0m\u001b[0;34m.\u001b[0m\u001b[0mappend\u001b[0m\u001b[0;34m(\u001b[0m\u001b[0;36m345\u001b[0m\u001b[0;34m)\u001b[0m\u001b[0;34m\u001b[0m\u001b[0;34m\u001b[0m\u001b[0m\n\u001b[0m",
            "\u001b[0;31mAttributeError\u001b[0m: 'tuple' object has no attribute 'append'"
          ]
        }
      ]
    },
    {
      "cell_type": "code",
      "metadata": {
        "colab": {
          "base_uri": "https://localhost:8080/"
        },
        "id": "CheiOo84fdci",
        "outputId": "6907ca8c-44b6-4817-dddd-d86741a826f1"
      },
      "source": [
        "conta_do_gui"
      ],
      "execution_count": 110,
      "outputs": [
        {
          "output_type": "execute_result",
          "data": {
            "text/plain": [
              "<__main__.ConstaCorrente at 0x7fa947f7d550>"
            ]
          },
          "metadata": {
            "tags": []
          },
          "execution_count": 110
        }
      ]
    },
    {
      "cell_type": "code",
      "metadata": {
        "colab": {
          "base_uri": "https://localhost:8080/"
        },
        "id": "_JrAtrl2fuvZ",
        "outputId": "bfcc61a5-3a4f-4c6c-c0b4-c78a1cbd481d"
      },
      "source": [
        "type(conta_do_gui)"
      ],
      "execution_count": 111,
      "outputs": [
        {
          "output_type": "execute_result",
          "data": {
            "text/plain": [
              "__main__.ConstaCorrente"
            ]
          },
          "metadata": {
            "tags": []
          },
          "execution_count": 111
        }
      ]
    },
    {
      "cell_type": "code",
      "metadata": {
        "id": "6wzZes-lfxDZ"
      },
      "source": [
        "usuarios = [ guilherme, daniela ]"
      ],
      "execution_count": 115,
      "outputs": []
    },
    {
      "cell_type": "code",
      "metadata": {
        "colab": {
          "base_uri": "https://localhost:8080/"
        },
        "id": "Lm57mDuEogdR",
        "outputId": "583731a5-225b-4bf5-e12d-c0e6036157ad"
      },
      "source": [
        "usuarios"
      ],
      "execution_count": 118,
      "outputs": [
        {
          "output_type": "execute_result",
          "data": {
            "text/plain": [
              "[('Guilherme', 37, 1981), ('Daniela', 31, 1987), ('Paulo', 39, 1979)]"
            ]
          },
          "metadata": {
            "tags": []
          },
          "execution_count": 118
        }
      ]
    },
    {
      "cell_type": "code",
      "metadata": {
        "id": "97xAbanvovxW"
      },
      "source": [
        "usuarios.append(('Paulo', 39, 1979))"
      ],
      "execution_count": 117,
      "outputs": []
    },
    {
      "cell_type": "code",
      "metadata": {
        "colab": {
          "base_uri": "https://localhost:8080/"
        },
        "id": "TNV8Mb5uo5tb",
        "outputId": "7ec3b185-b585-4a39-e742-46f0a1954bf5"
      },
      "source": [
        "usuarios[0]"
      ],
      "execution_count": 119,
      "outputs": [
        {
          "output_type": "execute_result",
          "data": {
            "text/plain": [
              "('Guilherme', 37, 1981)"
            ]
          },
          "metadata": {
            "tags": []
          },
          "execution_count": 119
        }
      ]
    },
    {
      "cell_type": "code",
      "metadata": {
        "id": "ZuKmFdJPpCDq"
      },
      "source": [
        "conta_do_gui = ConstaCorrente(15)\n",
        "conta_do_gui.deposita(500)\n",
        "conta_da_dane = ConstaCorrente(1000)\n",
        "conta_da_dane.deposita(1000)\n",
        "\n",
        "contas = (conta_do_gui, conta_da_dane)"
      ],
      "execution_count": 122,
      "outputs": []
    },
    {
      "cell_type": "code",
      "metadata": {
        "colab": {
          "base_uri": "https://localhost:8080/"
        },
        "id": "sst7z94opaKT",
        "outputId": "44be3f78-d45e-4bba-a0a5-082e3ad6b06d"
      },
      "source": [
        "for conta in contas:\n",
        "  print(conta)"
      ],
      "execution_count": 125,
      "outputs": [
        {
          "output_type": "stream",
          "text": [
            "(codigo 15 Saldo 500)\n",
            "(codigo 1000 Saldo 1000)\n"
          ],
          "name": "stdout"
        }
      ]
    },
    {
      "cell_type": "code",
      "metadata": {
        "id": "pxAFy-XypuEB"
      },
      "source": [
        "contas[0].deposita(300)"
      ],
      "execution_count": 126,
      "outputs": []
    },
    {
      "cell_type": "code",
      "metadata": {
        "colab": {
          "base_uri": "https://localhost:8080/"
        },
        "id": "n-xrktbLqGv_",
        "outputId": "5d664067-3393-4508-9ad8-ea1734d311c0"
      },
      "source": [
        "for conta in contas:\n",
        "  print(conta)"
      ],
      "execution_count": 127,
      "outputs": [
        {
          "output_type": "stream",
          "text": [
            "(codigo 15 Saldo 800)\n",
            "(codigo 1000 Saldo 1000)\n"
          ],
          "name": "stdout"
        }
      ]
    },
    {
      "cell_type": "code",
      "metadata": {
        "id": "ZFYojUryqJXq"
      },
      "source": [
        ""
      ],
      "execution_count": null,
      "outputs": []
    },
    {
      "cell_type": "markdown",
      "metadata": {
        "id": "IlW-s5JZqqIf"
      },
      "source": [
        "# Herança e polimorfismo"
      ]
    },
    {
      "cell_type": "code",
      "metadata": {
        "id": "ASRZMxCTqsdG"
      },
      "source": [
        "from abc import ABCMeta, abstractmethod\n",
        "\n",
        "class Conta(metaclass=ABCMeta):\n",
        "  \n",
        "  def __init__(self, codigo):\n",
        "    self._codigo = codigo\n",
        "    self._saldo = 0\n",
        "  \n",
        "  def deposita(self, valor):\n",
        "    self._saldo += valor\n",
        "\n",
        "  @abstractmethod\n",
        "  def passa_o_mes(self):\n",
        "    pass\n",
        "\n",
        "  def __str__(self):\n",
        "    return \"(codigo {} Saldo {})\".format(self._codigo, self._saldo)\n",
        "  "
      ],
      "execution_count": 153,
      "outputs": []
    },
    {
      "cell_type": "code",
      "metadata": {
        "id": "ABEcYfANq31N"
      },
      "source": [
        "class ContaCorrente(Conta):\n",
        "  def passa_o_mes(self):\n",
        "    self._saldo -= 2\n",
        "\n",
        "class ContaPoupanca(Conta):\n",
        "  def passa_o_mes(self):\n",
        "    self._saldo *= 1.01\n",
        "    self._saldo -= 3\n",
        "\n",
        "class ContaInvestimento(Conta):\n",
        "  pass\n",
        "\n"
      ],
      "execution_count": 185,
      "outputs": []
    },
    {
      "cell_type": "code",
      "metadata": {
        "colab": {
          "base_uri": "https://localhost:8080/"
        },
        "id": "ZxZyahqArXjn",
        "outputId": "91221d72-a072-43dc-bd62-25c21971a12e"
      },
      "source": [
        "conta16 = ContaCorrente(16)\n",
        "conta16.deposita(1000)\n",
        "conta16.passa_o_mes()\n",
        "print(conta16)"
      ],
      "execution_count": 139,
      "outputs": [
        {
          "output_type": "stream",
          "text": [
            "(codigo 16 Saldo 998)\n"
          ],
          "name": "stdout"
        }
      ]
    },
    {
      "cell_type": "code",
      "metadata": {
        "colab": {
          "base_uri": "https://localhost:8080/"
        },
        "id": "vfJxR-ZbrkD2",
        "outputId": "7615a8d0-dbd0-4984-b9b5-edbecd9da745"
      },
      "source": [
        "conta17 = ContaPoupanca(17)\n",
        "conta17.deposita(1000)\n",
        "conta17.passa_o_mes()\n",
        "print(conta17)\n",
        "\n",
        "conta18 = ContaInvestimento(18)"
      ],
      "execution_count": 155,
      "outputs": [
        {
          "output_type": "stream",
          "text": [
            "(codigo 17 Saldo 1007.0)\n"
          ],
          "name": "stdout"
        }
      ]
    },
    {
      "cell_type": "code",
      "metadata": {
        "id": "Zl-vBecesd4n"
      },
      "source": [
        "contas = [conta16, conta17]\n"
      ],
      "execution_count": 141,
      "outputs": []
    },
    {
      "cell_type": "code",
      "metadata": {
        "colab": {
          "base_uri": "https://localhost:8080/"
        },
        "id": "5tcy0dH-siae",
        "outputId": "4f12217c-f27c-4184-e33f-b24ea87c6c1a"
      },
      "source": [
        "contas"
      ],
      "execution_count": 142,
      "outputs": [
        {
          "output_type": "execute_result",
          "data": {
            "text/plain": [
              "[<__main__.ContaCorrente at 0x7fa947de45f8>,\n",
              " <__main__.ContaPoupanca at 0x7fa947de4da0>]"
            ]
          },
          "metadata": {
            "tags": []
          },
          "execution_count": 142
        }
      ]
    },
    {
      "cell_type": "code",
      "metadata": {
        "colab": {
          "base_uri": "https://localhost:8080/"
        },
        "id": "iWzcJ0w2sjsb",
        "outputId": "ed50031c-1b6b-424a-feae-72bcf834799e"
      },
      "source": [
        "conta16 = ContaCorrente(16)\n",
        "conta16.deposita(1000)\n",
        "conta17 = ContaPoupanca(17)\n",
        "conta17.deposita(1000)\n",
        "contas = [conta16, conta17]\n",
        "\n",
        "for conta in contas:\n",
        "  conta.passa_o_mes()\n",
        "  print(conta)"
      ],
      "execution_count": 146,
      "outputs": [
        {
          "output_type": "stream",
          "text": [
            "(codigo 16 Saldo 998)\n",
            "(codigo 17 Saldo 1007.0)\n"
          ],
          "name": "stdout"
        }
      ]
    },
    {
      "cell_type": "code",
      "metadata": {
        "id": "yqOoy9vzs86d"
      },
      "source": [
        ""
      ],
      "execution_count": null,
      "outputs": []
    },
    {
      "cell_type": "markdown",
      "metadata": {
        "id": "RRTPgNycu44N"
      },
      "source": [
        "# array,  evitaremos usar. "
      ]
    },
    {
      "cell_type": "markdown",
      "metadata": {
        "id": "qe9GskKHu29R"
      },
      "source": [
        ""
      ]
    },
    {
      "cell_type": "code",
      "metadata": {
        "colab": {
          "base_uri": "https://localhost:8080/"
        },
        "id": "OS4XhBlvt4vZ",
        "outputId": "3f2b4e99-7080-4982-8b8d-aa6fa6651c74"
      },
      "source": [
        "import array as arr\n",
        "arr.array('d', [1, 3.5])"
      ],
      "execution_count": 147,
      "outputs": [
        {
          "output_type": "execute_result",
          "data": {
            "text/plain": [
              "array('d', [1.0, 3.5])"
            ]
          },
          "metadata": {
            "tags": []
          },
          "execution_count": 147
        }
      ]
    },
    {
      "cell_type": "markdown",
      "metadata": {
        "id": "GTLJyJ9fwlUe"
      },
      "source": [
        "#evitamos de usar array puro. se precisamos de trabalho numerico, é costume usar numpy"
      ]
    },
    {
      "cell_type": "code",
      "metadata": {
        "colab": {
          "base_uri": "https://localhost:8080/"
        },
        "id": "TCQCp9sNt-jT",
        "outputId": "e1254ae5-7334-4398-fd85-aa563ab9492b"
      },
      "source": [
        "!pip install numpy"
      ],
      "execution_count": 149,
      "outputs": [
        {
          "output_type": "stream",
          "text": [
            "Requirement already satisfied: numpy in /usr/local/lib/python3.6/dist-packages (1.19.5)\n"
          ],
          "name": "stdout"
        }
      ]
    },
    {
      "cell_type": "code",
      "metadata": {
        "colab": {
          "base_uri": "https://localhost:8080/"
        },
        "id": "R8_uWPkMugNA",
        "outputId": "13a5d3d4-dbff-45a6-aeca-573d8ec4e6e1"
      },
      "source": [
        "import numpy as np\n",
        "numeros = np.array([1, 3.5])\n",
        "numeros"
      ],
      "execution_count": 150,
      "outputs": [
        {
          "output_type": "execute_result",
          "data": {
            "text/plain": [
              "array([1. , 3.5])"
            ]
          },
          "metadata": {
            "tags": []
          },
          "execution_count": 150
        }
      ]
    },
    {
      "cell_type": "code",
      "metadata": {
        "colab": {
          "base_uri": "https://localhost:8080/"
        },
        "id": "PkL8yJ2rurRP",
        "outputId": "98668998-fa02-4fb0-a881-7ddd2a794b7b"
      },
      "source": [
        "numeros + 3"
      ],
      "execution_count": 151,
      "outputs": [
        {
          "output_type": "execute_result",
          "data": {
            "text/plain": [
              "array([4. , 6.5])"
            ]
          },
          "metadata": {
            "tags": []
          },
          "execution_count": 151
        }
      ]
    },
    {
      "cell_type": "code",
      "metadata": {
        "id": "R_1-qnMFuuT4"
      },
      "source": [
        "class ContaSalario:\n",
        "  def __init__(self, codigo):\n",
        "    self._codigo = codigo\n",
        "    self._saldo = 0\n",
        "\n",
        "  def __eq__(self, outro):\n",
        "    return self._codigo == outro._codigo and self._saldo == outro._saldo\n",
        "\n",
        "  def deposita(self, valor):\n",
        "    self._saldo += valor\n",
        "\n",
        "  def __str__(self):\n",
        "    return \"[>>Codigo {} Saldo {} <<]\".format(self._codigo, self._saldo)\n"
      ],
      "execution_count": 176,
      "outputs": []
    },
    {
      "cell_type": "code",
      "metadata": {
        "colab": {
          "base_uri": "https://localhost:8080/"
        },
        "id": "r9jSaqEFwpmf",
        "outputId": "b019b947-eb2b-4aaa-ef6e-99d0c8e53c64"
      },
      "source": [
        "conta1 = ContaSalario(37)\n",
        "print(conta1)"
      ],
      "execution_count": 171,
      "outputs": [
        {
          "output_type": "stream",
          "text": [
            "[>>Codigo 37 Saldo 0 <<]\n"
          ],
          "name": "stdout"
        }
      ]
    },
    {
      "cell_type": "code",
      "metadata": {
        "colab": {
          "base_uri": "https://localhost:8080/"
        },
        "id": "9dovwyj7y8d-",
        "outputId": "685d1b64-5950-4508-aa8a-725c9f82fab0"
      },
      "source": [
        "conta2 = ContaSalario(37)\n",
        "print(conta2)"
      ],
      "execution_count": 172,
      "outputs": [
        {
          "output_type": "stream",
          "text": [
            "[>>Codigo 37 Saldo 0 <<]\n"
          ],
          "name": "stdout"
        }
      ]
    },
    {
      "cell_type": "code",
      "metadata": {
        "colab": {
          "base_uri": "https://localhost:8080/"
        },
        "id": "sEM20QqtzB_w",
        "outputId": "f3f3de96-aca8-4fc0-c4b1-0b53200fb255"
      },
      "source": [
        "conta1 == conta2"
      ],
      "execution_count": 173,
      "outputs": [
        {
          "output_type": "execute_result",
          "data": {
            "text/plain": [
              "True"
            ]
          },
          "metadata": {
            "tags": []
          },
          "execution_count": 173
        }
      ]
    },
    {
      "cell_type": "code",
      "metadata": {
        "colab": {
          "base_uri": "https://localhost:8080/"
        },
        "id": "kw0caq4-zEdR",
        "outputId": "43795abc-5afc-4a2e-bef1-a860b09a94ab"
      },
      "source": [
        "conta1 == conta2"
      ],
      "execution_count": 174,
      "outputs": [
        {
          "output_type": "execute_result",
          "data": {
            "text/plain": [
              "True"
            ]
          },
          "metadata": {
            "tags": []
          },
          "execution_count": 174
        }
      ]
    },
    {
      "cell_type": "code",
      "metadata": {
        "colab": {
          "base_uri": "https://localhost:8080/"
        },
        "id": "9fd70zyNzr2u",
        "outputId": "fecc3ac2-cf03-4d74-ea5d-0a45aee0ac7d"
      },
      "source": [
        "conta1 = ContaSalario(37)\n",
        "conta2 = ContaSalario(37)\n",
        "conta1 == conta2"
      ],
      "execution_count": 177,
      "outputs": [
        {
          "output_type": "execute_result",
          "data": {
            "text/plain": [
              "True"
            ]
          },
          "metadata": {
            "tags": []
          },
          "execution_count": 177
        }
      ]
    },
    {
      "cell_type": "code",
      "metadata": {
        "id": "BoflMLf2z7nF"
      },
      "source": [
        "conta1.deposita(100)"
      ],
      "execution_count": 178,
      "outputs": []
    },
    {
      "cell_type": "code",
      "metadata": {
        "colab": {
          "base_uri": "https://localhost:8080/"
        },
        "id": "GkKL489u0gtH",
        "outputId": "96ab58c7-ebcc-4ac4-c91e-a987617759c1"
      },
      "source": [
        "conta1 == conta2"
      ],
      "execution_count": 179,
      "outputs": [
        {
          "output_type": "execute_result",
          "data": {
            "text/plain": [
              "False"
            ]
          },
          "metadata": {
            "tags": []
          },
          "execution_count": 179
        }
      ]
    },
    {
      "cell_type": "code",
      "metadata": {
        "id": "SJpfnvPs0iYW"
      },
      "source": [
        "class ContaSalario:\n",
        "  def __init__(self, codigo):\n",
        "    self._codigo = codigo\n",
        "    self._saldo = 0\n",
        "\n",
        "  def __eq__(self, outro):\n",
        "    if type(outro) != ContaSalario:\n",
        "      return False\n",
        "\n",
        "    return self._codigo == outro._codigo and self._saldo == outro._saldo\n",
        "\n",
        "  def deposita(self, valor):\n",
        "    self._saldo += valor\n",
        "\n",
        "  def __str__(self):\n",
        "    return \"[>>Codigo {} Saldo {} <<]\".format(self._codigo, self._saldo)\n"
      ],
      "execution_count": 180,
      "outputs": []
    },
    {
      "cell_type": "code",
      "metadata": {
        "colab": {
          "base_uri": "https://localhost:8080/"
        },
        "id": "iESnZlzK09j2",
        "outputId": "34423325-33fc-4169-c946-4fe0c1585e74"
      },
      "source": [
        "conta4 = ContaPoupanca(37)\n",
        "conta5 = ContaCorrente(37)\n",
        "conta4 == conta5"
      ],
      "execution_count": 181,
      "outputs": [
        {
          "output_type": "execute_result",
          "data": {
            "text/plain": [
              "False"
            ]
          },
          "metadata": {
            "tags": []
          },
          "execution_count": 181
        }
      ]
    },
    {
      "cell_type": "code",
      "metadata": {
        "id": "ga4LPNrm1Gip"
      },
      "source": [
        "class ContaSalario:\n",
        "  def __init__(self, codigo):\n",
        "    self._codigo = codigo\n",
        "    self._saldo = 0\n",
        "\n",
        "  def __eq__(self, outro):\n",
        "    if type(outro) != ContaSalario:\n",
        "      return False\n",
        "\n",
        "    return self._codigo == outro._codigo and self._saldo == outro._saldo\n",
        "\n",
        "  def deposita(self, valor):\n",
        "    self._saldo += valor\n",
        "\n",
        "  def __str__(self):\n",
        "    return \"[>>Codigo {} Saldo {} <<]\".format(self._codigo, self._saldo)\n",
        "\n",
        "class ContaMultiploSalario(ContaSalario):\n",
        "  pass"
      ],
      "execution_count": 182,
      "outputs": []
    },
    {
      "cell_type": "code",
      "metadata": {
        "colab": {
          "base_uri": "https://localhost:8080/"
        },
        "id": "jRNtVjuS1UFI",
        "outputId": "13bd7f0d-b378-464d-ae1f-86daf9251875"
      },
      "source": [
        "isinstance(ContaCorrente(34), Conta)"
      ],
      "execution_count": 186,
      "outputs": [
        {
          "output_type": "execute_result",
          "data": {
            "text/plain": [
              "True"
            ]
          },
          "metadata": {
            "tags": []
          },
          "execution_count": 186
        }
      ]
    },
    {
      "cell_type": "code",
      "metadata": {
        "colab": {
          "base_uri": "https://localhost:8080/"
        },
        "id": "7FJMEzXE1lYv",
        "outputId": "9590494c-16fc-4e3b-84fe-07cb16fa702e"
      },
      "source": [
        "idades = [15, 87, 32, 65, 56, 32, 49, 37]\n",
        "\n",
        "for i in range(len(idades)):\n",
        "  print(i, idades[i])"
      ],
      "execution_count": 193,
      "outputs": [
        {
          "output_type": "stream",
          "text": [
            "0 15\n",
            "1 87\n",
            "2 32\n",
            "3 65\n",
            "4 56\n",
            "5 32\n",
            "6 49\n",
            "7 37\n"
          ],
          "name": "stdout"
        }
      ]
    },
    {
      "cell_type": "code",
      "metadata": {
        "id": "PKSwzf3E2fBU"
      },
      "source": [
        "idades = [15, 87, 32, 65, 56, 32, 49, 37]"
      ],
      "execution_count": 195,
      "outputs": []
    },
    {
      "cell_type": "code",
      "metadata": {
        "colab": {
          "base_uri": "https://localhost:8080/"
        },
        "id": "BpO_WI_-9Xc8",
        "outputId": "ea33d59d-cf71-4f16-d5d0-c59fc736b6c1"
      },
      "source": [
        "enumerate(idades)"
      ],
      "execution_count": 197,
      "outputs": [
        {
          "output_type": "execute_result",
          "data": {
            "text/plain": [
              "<enumerate at 0x7fa947e3e8b8>"
            ]
          },
          "metadata": {
            "tags": []
          },
          "execution_count": 197
        }
      ]
    },
    {
      "cell_type": "code",
      "metadata": {
        "colab": {
          "base_uri": "https://localhost:8080/"
        },
        "id": "HddLDXnB9lxp",
        "outputId": "ce4fb613-267b-4047-fb2e-9ea647be6043"
      },
      "source": [
        "list(enumerate(idades))"
      ],
      "execution_count": 198,
      "outputs": [
        {
          "output_type": "execute_result",
          "data": {
            "text/plain": [
              "[(0, 15), (1, 87), (2, 32), (3, 65), (4, 56), (5, 32), (6, 49), (7, 37)]"
            ]
          },
          "metadata": {
            "tags": []
          },
          "execution_count": 198
        }
      ]
    },
    {
      "cell_type": "code",
      "metadata": {
        "colab": {
          "base_uri": "https://localhost:8080/"
        },
        "id": "9bqcM69y9vbo",
        "outputId": "9ebdd6a6-d813-4bd4-a31e-99e701e8dcf8"
      },
      "source": [
        "for valor in enumerate(idades):\n",
        "  print(valor)"
      ],
      "execution_count": 201,
      "outputs": [
        {
          "output_type": "stream",
          "text": [
            "(0, 15)\n",
            "(1, 87)\n",
            "(2, 32)\n",
            "(3, 65)\n",
            "(4, 56)\n",
            "(5, 32)\n",
            "(6, 49)\n",
            "(7, 37)\n"
          ],
          "name": "stdout"
        }
      ]
    },
    {
      "cell_type": "code",
      "metadata": {
        "colab": {
          "base_uri": "https://localhost:8080/"
        },
        "id": "RHvbPZ3P-_J8",
        "outputId": "2a7c48d6-0d97-4568-9957-2beca9847905"
      },
      "source": [
        "for indice, idade in enumerate(idades): #unpacking \n",
        "  print(indice, \"X\", idade)"
      ],
      "execution_count": 202,
      "outputs": [
        {
          "output_type": "stream",
          "text": [
            "0 X 15\n",
            "1 X 87\n",
            "2 X 32\n",
            "3 X 65\n",
            "4 X 56\n",
            "5 X 32\n",
            "6 X 49\n",
            "7 X 37\n"
          ],
          "name": "stdout"
        }
      ]
    },
    {
      "cell_type": "code",
      "metadata": {
        "colab": {
          "base_uri": "https://localhost:8080/"
        },
        "id": "rZrJGeKO_pOy",
        "outputId": "ad9ddd15-02de-44e7-b997-31d5f4195a8c"
      },
      "source": [
        "usuarios = [\n",
        "      (\"Guilherme\", 37, 1981),\n",
        "      (\"Daniela\", 31, 1987),\n",
        "      (\"Paulo\", 39, 1979)\n",
        "]\n",
        "\n",
        "for usuario in usuarios:\n",
        "  print(usuario)"
      ],
      "execution_count": 203,
      "outputs": [
        {
          "output_type": "stream",
          "text": [
            "('Guilherme', 37, 1981)\n",
            "('Daniela', 31, 1987)\n",
            "('Paulo', 39, 1979)\n"
          ],
          "name": "stdout"
        }
      ]
    },
    {
      "cell_type": "code",
      "metadata": {
        "colab": {
          "base_uri": "https://localhost:8080/"
        },
        "id": "-zIs7h4dARxD",
        "outputId": "fb64c827-134b-4d67-fcec-396e23a79525"
      },
      "source": [
        "for nome, idade, nascimento in usuarios: #ja desempacotando\n",
        "  print(nome)"
      ],
      "execution_count": 204,
      "outputs": [
        {
          "output_type": "stream",
          "text": [
            "Guilherme\n",
            "Daniela\n",
            "Paulo\n"
          ],
          "name": "stdout"
        }
      ]
    },
    {
      "cell_type": "code",
      "metadata": {
        "colab": {
          "base_uri": "https://localhost:8080/"
        },
        "id": "ONwIbHH5AXSc",
        "outputId": "ca72514d-140f-4e13-9032-a62aacfa1349"
      },
      "source": [
        "for nome, _, _ in usuarios: #ja desempacotando ignorando o resto\n",
        "  print(nome)"
      ],
      "execution_count": 205,
      "outputs": [
        {
          "output_type": "stream",
          "text": [
            "Guilherme\n",
            "Daniela\n",
            "Paulo\n"
          ],
          "name": "stdout"
        }
      ]
    },
    {
      "cell_type": "code",
      "metadata": {
        "id": "pcjBLpfqAnDW"
      },
      "source": [
        ""
      ],
      "execution_count": 206,
      "outputs": []
    },
    {
      "cell_type": "markdown",
      "metadata": {
        "id": "-Qgfn_BGBT8x"
      },
      "source": [
        "#Ordenação básica( ordem natural)"
      ]
    },
    {
      "cell_type": "code",
      "metadata": {
        "colab": {
          "base_uri": "https://localhost:8080/"
        },
        "id": "-cIfjfGTBRXv",
        "outputId": "c5664df8-a640-475c-c7bd-4fd4b365ef51"
      },
      "source": [
        "idades"
      ],
      "execution_count": 207,
      "outputs": [
        {
          "output_type": "execute_result",
          "data": {
            "text/plain": [
              "[15, 87, 32, 65, 56, 32, 49, 37]"
            ]
          },
          "metadata": {
            "tags": []
          },
          "execution_count": 207
        }
      ]
    },
    {
      "cell_type": "code",
      "metadata": {
        "colab": {
          "base_uri": "https://localhost:8080/"
        },
        "id": "U5dFRRdzBYaP",
        "outputId": "e987532d-f18c-4c45-ecb3-0262bada42ff"
      },
      "source": [
        "sorted(idades)"
      ],
      "execution_count": 208,
      "outputs": [
        {
          "output_type": "execute_result",
          "data": {
            "text/plain": [
              "[15, 32, 32, 37, 49, 56, 65, 87]"
            ]
          },
          "metadata": {
            "tags": []
          },
          "execution_count": 208
        }
      ]
    },
    {
      "cell_type": "code",
      "metadata": {
        "colab": {
          "base_uri": "https://localhost:8080/"
        },
        "id": "_rO96xMzBbR1",
        "outputId": "a8989c87-bc26-45bf-c010-9924f6efa279"
      },
      "source": [
        "list(reversed(idades))"
      ],
      "execution_count": 210,
      "outputs": [
        {
          "output_type": "execute_result",
          "data": {
            "text/plain": [
              "[37, 49, 32, 56, 65, 32, 87, 15]"
            ]
          },
          "metadata": {
            "tags": []
          },
          "execution_count": 210
        }
      ]
    },
    {
      "cell_type": "code",
      "metadata": {
        "colab": {
          "base_uri": "https://localhost:8080/"
        },
        "id": "U2EIyMhhBiGg",
        "outputId": "d57c1d3f-fe7c-4975-b47e-0e6adab6b567"
      },
      "source": [
        "sorted(idades, reverse=True)"
      ],
      "execution_count": 211,
      "outputs": [
        {
          "output_type": "execute_result",
          "data": {
            "text/plain": [
              "[87, 65, 56, 49, 37, 32, 32, 15]"
            ]
          },
          "metadata": {
            "tags": []
          },
          "execution_count": 211
        }
      ]
    },
    {
      "cell_type": "code",
      "metadata": {
        "colab": {
          "base_uri": "https://localhost:8080/"
        },
        "id": "9Htgx4OSB20Q",
        "outputId": "9c0abac2-cfe0-4068-d5a3-3c049f550017"
      },
      "source": [
        "idades.sort()\n",
        "idades"
      ],
      "execution_count": 212,
      "outputs": [
        {
          "output_type": "execute_result",
          "data": {
            "text/plain": [
              "[15, 32, 32, 37, 49, 56, 65, 87]"
            ]
          },
          "metadata": {
            "tags": []
          },
          "execution_count": 212
        }
      ]
    },
    {
      "cell_type": "code",
      "metadata": {
        "id": "K3qRRE_1CLb4"
      },
      "source": [
        ""
      ],
      "execution_count": null,
      "outputs": []
    },
    {
      "cell_type": "markdown",
      "metadata": {
        "id": "pLxU3ngqIx9f"
      },
      "source": [
        "#Ordenando objetos (ordenação customizada)"
      ]
    },
    {
      "cell_type": "code",
      "metadata": {
        "id": "-d7s7FXKI2W4"
      },
      "source": [
        "conta_do_guilherme = ContaSalario(17)\n",
        "conta_do_guilherme.deposita(500)\n",
        "\n",
        "conta_da_daniela = ContaSalario(3)\n",
        "conta_da_daniela.deposita(1000)\n",
        "\n",
        "conta_do_paulo = ContaSalario(133)\n",
        "conta_do_paulo.deposita(510)\n",
        "\n",
        "contas = [conta_do_guilherme, conta_da_daniela, conta_do_paulo]"
      ],
      "execution_count": 213,
      "outputs": []
    },
    {
      "cell_type": "code",
      "metadata": {
        "colab": {
          "base_uri": "https://localhost:8080/"
        },
        "id": "yukgh_E_Je2B",
        "outputId": "967b81d9-23e3-4282-83cb-fb1701955295"
      },
      "source": [
        "for conta in contas:\n",
        "  print(conta)"
      ],
      "execution_count": 214,
      "outputs": [
        {
          "output_type": "stream",
          "text": [
            "[>>Codigo 17 Saldo 500 <<]\n",
            "[>>Codigo 3 Saldo 1000 <<]\n",
            "[>>Codigo 133 Saldo 510 <<]\n"
          ],
          "name": "stdout"
        }
      ]
    },
    {
      "cell_type": "code",
      "metadata": {
        "colab": {
          "base_uri": "https://localhost:8080/"
        },
        "id": "WFbko8V4JiT_",
        "outputId": "b7a34e2b-c4b6-4b2a-f93a-ab1cf1388acd"
      },
      "source": [
        "def extrai_saldo(conta):\n",
        "  return conta._saldo\n",
        "\n",
        "for conta in sorted(contas, key=extrai_saldo):\n",
        "  print(conta)"
      ],
      "execution_count": 217,
      "outputs": [
        {
          "output_type": "stream",
          "text": [
            "[>>Codigo 17 Saldo 500 <<]\n",
            "[>>Codigo 133 Saldo 510 <<]\n",
            "[>>Codigo 3 Saldo 1000 <<]\n"
          ],
          "name": "stdout"
        }
      ]
    },
    {
      "cell_type": "code",
      "metadata": {
        "colab": {
          "base_uri": "https://localhost:8080/"
        },
        "id": "qPqQiMGFKLjC",
        "outputId": "8300ec15-98d6-46c4-9632-093025aa3e03"
      },
      "source": [
        "from operator import attrgetter\n",
        "for conta in sorted(contas, key=attrgetter(\"_saldo\")):\n",
        "  print(conta)\n"
      ],
      "execution_count": 218,
      "outputs": [
        {
          "output_type": "stream",
          "text": [
            "[>>Codigo 17 Saldo 500 <<]\n",
            "[>>Codigo 133 Saldo 510 <<]\n",
            "[>>Codigo 3 Saldo 1000 <<]\n"
          ],
          "name": "stdout"
        }
      ]
    },
    {
      "cell_type": "code",
      "metadata": {
        "colab": {
          "base_uri": "https://localhost:8080/",
          "height": 164
        },
        "id": "q1cY-RiHLKgg",
        "outputId": "d284382d-2fa4-440e-c85c-4c015412962f"
      },
      "source": [
        "conta_do_guilherme < conta_da_daniela"
      ],
      "execution_count": 219,
      "outputs": [
        {
          "output_type": "error",
          "ename": "TypeError",
          "evalue": "ignored",
          "traceback": [
            "\u001b[0;31m---------------------------------------------------------------------------\u001b[0m",
            "\u001b[0;31mTypeError\u001b[0m                                 Traceback (most recent call last)",
            "\u001b[0;32m<ipython-input-219-23ebe804144a>\u001b[0m in \u001b[0;36m<module>\u001b[0;34m()\u001b[0m\n\u001b[0;32m----> 1\u001b[0;31m \u001b[0mconta_do_guilherme\u001b[0m \u001b[0;34m<\u001b[0m \u001b[0mconta_da_daniela\u001b[0m\u001b[0;34m\u001b[0m\u001b[0;34m\u001b[0m\u001b[0m\n\u001b[0m",
            "\u001b[0;31mTypeError\u001b[0m: '<' not supported between instances of 'ContaSalario' and 'ContaSalario'"
          ]
        }
      ]
    },
    {
      "cell_type": "code",
      "metadata": {
        "id": "lIjkNwUILciZ"
      },
      "source": [
        "class ContaSalario:\n",
        "  def __init__(self, codigo):\n",
        "    self._codigo = codigo\n",
        "    self._saldo = 0\n",
        "\n",
        "  def __eq__(self, outro):\n",
        "    if type(outro) != ContaSalario:\n",
        "      return False\n",
        "\n",
        "    return self._codigo == outro._codigo and self._saldo == outro._saldo\n",
        "\n",
        "  def __lt__(self, outro):\n",
        "    return self._saldo < outro._saldo\n",
        "\n",
        "  def deposita(self, valor):\n",
        "    self._saldo += valor\n",
        "\n",
        "  def __str__(self):\n",
        "    return \"[>>Codigo {} Saldo {} <<]\".format(self._codigo, self._saldo)\n",
        "\n",
        "class ContaMultiploSalario(ContaSalario):\n",
        "  pass"
      ],
      "execution_count": 222,
      "outputs": []
    },
    {
      "cell_type": "code",
      "metadata": {
        "id": "eBWRKfI4LyQq"
      },
      "source": [
        "conta_do_guilherme = ContaSalario(17)\n",
        "conta_do_guilherme.deposita(500)\n",
        "\n",
        "conta_da_daniela = ContaSalario(3)\n",
        "conta_da_daniela.deposita(1000)\n",
        "\n",
        "conta_do_paulo = ContaSalario(133)\n",
        "conta_do_paulo.deposita(510)\n",
        "\n",
        "contas = [conta_do_guilherme, conta_da_daniela, conta_do_paulo]"
      ],
      "execution_count": 223,
      "outputs": []
    },
    {
      "cell_type": "code",
      "metadata": {
        "colab": {
          "base_uri": "https://localhost:8080/"
        },
        "id": "7S7VYTIaL2RX",
        "outputId": "ff9e326f-74c4-486f-bec3-1fac81b2f9bd"
      },
      "source": [
        "conta_do_guilherme > conta_da_daniela"
      ],
      "execution_count": 224,
      "outputs": [
        {
          "output_type": "execute_result",
          "data": {
            "text/plain": [
              "False"
            ]
          },
          "metadata": {
            "tags": []
          },
          "execution_count": 224
        }
      ]
    },
    {
      "cell_type": "code",
      "metadata": {
        "colab": {
          "base_uri": "https://localhost:8080/"
        },
        "id": "hOOSK-EHL-qk",
        "outputId": "ce8d7547-16f3-4308-9bc6-35a5559b140f"
      },
      "source": [
        "conta_do_guilherme < conta_da_daniela"
      ],
      "execution_count": 225,
      "outputs": [
        {
          "output_type": "execute_result",
          "data": {
            "text/plain": [
              "True"
            ]
          },
          "metadata": {
            "tags": []
          },
          "execution_count": 225
        }
      ]
    },
    {
      "cell_type": "code",
      "metadata": {
        "colab": {
          "base_uri": "https://localhost:8080/"
        },
        "id": "FWgZI_GAMDdV",
        "outputId": "1e2096a1-fabe-47a1-c690-1aa23b536c73"
      },
      "source": [
        "for conta in sorted(contas):\n",
        "  print(conta)"
      ],
      "execution_count": 226,
      "outputs": [
        {
          "output_type": "stream",
          "text": [
            "[>>Codigo 17 Saldo 500 <<]\n",
            "[>>Codigo 133 Saldo 510 <<]\n",
            "[>>Codigo 3 Saldo 1000 <<]\n"
          ],
          "name": "stdout"
        }
      ]
    },
    {
      "cell_type": "code",
      "metadata": {
        "id": "ds1wEjFaMOmv"
      },
      "source": [
        ""
      ],
      "execution_count": null,
      "outputs": []
    },
    {
      "cell_type": "markdown",
      "metadata": {
        "id": "SVrEM4pfMeuE"
      },
      "source": [
        "#Ordenação Total"
      ]
    },
    {
      "cell_type": "code",
      "metadata": {
        "id": "JI8lL-GHMhS2"
      },
      "source": [
        "conta_do_guilherme = ContaSalario(1700)\n",
        "conta_do_guilherme.deposita(500)\n",
        "\n",
        "conta_da_daniela = ContaSalario(3)\n",
        "conta_da_daniela.deposita(1000)\n",
        "\n",
        "conta_do_paulo = ContaSalario(133)\n",
        "conta_do_paulo.deposita(500)\n",
        "\n",
        "contas = [conta_do_guilherme, conta_da_daniela, conta_do_paulo]"
      ],
      "execution_count": 227,
      "outputs": []
    },
    {
      "cell_type": "code",
      "metadata": {
        "colab": {
          "base_uri": "https://localhost:8080/"
        },
        "id": "ZlFhcbWtMxm1",
        "outputId": "1c1ef5a4-0abb-4dfe-f08d-c96f0775facf"
      },
      "source": [
        "for conta in sorted(contas, key=attrgetter(\"_saldo\", \"_codigo\")):\n",
        "  print(conta)"
      ],
      "execution_count": 228,
      "outputs": [
        {
          "output_type": "stream",
          "text": [
            "[>>Codigo 133 Saldo 500 <<]\n",
            "[>>Codigo 1700 Saldo 500 <<]\n",
            "[>>Codigo 3 Saldo 1000 <<]\n"
          ],
          "name": "stdout"
        }
      ]
    },
    {
      "cell_type": "code",
      "metadata": {
        "id": "wBMO5pXQM_8u"
      },
      "source": [
        "class ContaSalario:\n",
        "  def __init__(self, codigo):\n",
        "    self._codigo = codigo\n",
        "    self._saldo = 0\n",
        "\n",
        "  def __eq__(self, outro):\n",
        "    if type(outro) != ContaSalario:\n",
        "      return False\n",
        "\n",
        "    return self._codigo == outro._codigo and self._saldo == outro._saldo\n",
        "\n",
        "  def __lt__(self, outro):\n",
        "    if self._saldo != outro._saldo:\n",
        "      return self._saldo < outro._saldo\n",
        "\n",
        "    return self._codigo < outro._codigo\n",
        "\n",
        "  def deposita(self, valor):\n",
        "    self._saldo += valor\n",
        "\n",
        "  def __str__(self):\n",
        "    return \"[>>Codigo {} Saldo {} <<]\".format(self._codigo, self._saldo)\n",
        "\n",
        "class ContaMultiploSalario(ContaSalario):\n",
        "  pass"
      ],
      "execution_count": 232,
      "outputs": []
    },
    {
      "cell_type": "code",
      "metadata": {
        "id": "Kv26SPZoNZSB"
      },
      "source": [
        "conta_do_guilherme = ContaSalario(1700)\n",
        "conta_do_guilherme.deposita(500)\n",
        "\n",
        "conta_da_daniela = ContaSalario(3)\n",
        "conta_da_daniela.deposita(1000)\n",
        "\n",
        "conta_do_paulo = ContaSalario(133)\n",
        "conta_do_paulo.deposita(500)\n",
        "\n",
        "contas = [conta_do_guilherme, conta_da_daniela, conta_do_paulo]"
      ],
      "execution_count": 235,
      "outputs": []
    },
    {
      "cell_type": "code",
      "metadata": {
        "colab": {
          "base_uri": "https://localhost:8080/"
        },
        "id": "6CWLEiHBNdqM",
        "outputId": "a59fc886-7f4e-4a84-f9ad-f193318db93e"
      },
      "source": [
        "for conta in sorted(contas):\n",
        "  print(conta)"
      ],
      "execution_count": 236,
      "outputs": [
        {
          "output_type": "stream",
          "text": [
            "[>>Codigo 133 Saldo 500 <<]\n",
            "[>>Codigo 1700 Saldo 500 <<]\n",
            "[>>Codigo 3 Saldo 1000 <<]\n"
          ],
          "name": "stdout"
        }
      ]
    },
    {
      "cell_type": "code",
      "metadata": {
        "colab": {
          "base_uri": "https://localhost:8080/"
        },
        "id": "w2AwHVHRNhho",
        "outputId": "99818912-fd51-4431-ec3d-5621fdc0ae3a"
      },
      "source": [
        "conta_do_guilherme < conta_da_daniela"
      ],
      "execution_count": 237,
      "outputs": [
        {
          "output_type": "execute_result",
          "data": {
            "text/plain": [
              "True"
            ]
          },
          "metadata": {
            "tags": []
          },
          "execution_count": 237
        }
      ]
    },
    {
      "cell_type": "code",
      "metadata": {
        "colab": {
          "base_uri": "https://localhost:8080/",
          "height": 164
        },
        "id": "V40yENi2OW4b",
        "outputId": "d7143849-90ed-4733-c984-4a0e76837925"
      },
      "source": [
        "conta_do_guilherme <= conta_da_daniela"
      ],
      "execution_count": 238,
      "outputs": [
        {
          "output_type": "error",
          "ename": "TypeError",
          "evalue": "ignored",
          "traceback": [
            "\u001b[0;31m---------------------------------------------------------------------------\u001b[0m",
            "\u001b[0;31mTypeError\u001b[0m                                 Traceback (most recent call last)",
            "\u001b[0;32m<ipython-input-238-5f6d4259fd98>\u001b[0m in \u001b[0;36m<module>\u001b[0;34m()\u001b[0m\n\u001b[0;32m----> 1\u001b[0;31m \u001b[0mconta_do_guilherme\u001b[0m \u001b[0;34m<=\u001b[0m \u001b[0mconta_da_daniela\u001b[0m\u001b[0;34m\u001b[0m\u001b[0;34m\u001b[0m\u001b[0m\n\u001b[0m",
            "\u001b[0;31mTypeError\u001b[0m: '<=' not supported between instances of 'ContaSalario' and 'ContaSalario'"
          ]
        }
      ]
    },
    {
      "cell_type": "code",
      "metadata": {
        "id": "x6NxdtqKObK7"
      },
      "source": [
        "from functools import total_ordering\n",
        "\n",
        "@total_ordering\n",
        "class ContaSalario:\n",
        "  def __init__(self, codigo):\n",
        "    self._codigo = codigo\n",
        "    self._saldo = 0\n",
        "\n",
        "  def __eq__(self, outro):\n",
        "    if type(outro) != ContaSalario:\n",
        "      return False\n",
        "    return self._codigo == outro._codigo and self._saldo == outro._saldo\n",
        "\n",
        "  def __lt__(self, outro):\n",
        "    if self._saldo != outro._saldo:\n",
        "      return self._saldo < outro._saldo\n",
        "    return self._codigo < outro._codigo\n",
        "\n",
        "  def deposita(self, valor):\n",
        "    self._saldo += valor\n",
        "\n",
        "  def __str__(self):\n",
        "    return \"[>>Codigo {} Saldo {} <<]\".format(self._codigo, self._saldo)\n",
        "\n",
        "class ContaMultiploSalario(ContaSalario):\n",
        "  pass"
      ],
      "execution_count": 239,
      "outputs": []
    },
    {
      "cell_type": "code",
      "metadata": {
        "id": "_muT1uzePCjg"
      },
      "source": [
        "conta_do_guilherme = ContaSalario(1700)\n",
        "conta_do_guilherme.deposita(500)\n",
        "\n",
        "conta_da_daniela = ContaSalario(3)\n",
        "conta_da_daniela.deposita(1000)\n",
        "\n",
        "conta_do_paulo = ContaSalario(133)\n",
        "conta_do_paulo.deposita(500)\n",
        "\n",
        "contas = [conta_do_guilherme, conta_da_daniela, conta_do_paulo]\n"
      ],
      "execution_count": 249,
      "outputs": []
    },
    {
      "cell_type": "code",
      "metadata": {
        "colab": {
          "base_uri": "https://localhost:8080/"
        },
        "id": "bO4uV4sMPJF8",
        "outputId": "154be8fa-0446-40c6-d06c-4db3e79aecfe"
      },
      "source": [
        "conta_do_guilherme <= conta_da_daniela\n"
      ],
      "execution_count": 250,
      "outputs": [
        {
          "output_type": "execute_result",
          "data": {
            "text/plain": [
              "True"
            ]
          },
          "metadata": {
            "tags": []
          },
          "execution_count": 250
        }
      ]
    },
    {
      "cell_type": "code",
      "metadata": {
        "id": "uyIrwCOUPMfy"
      },
      "source": [
        ""
      ],
      "execution_count": 243,
      "outputs": []
    },
    {
      "cell_type": "code",
      "metadata": {
        "colab": {
          "base_uri": "https://localhost:8080/"
        },
        "id": "B0q9rGIlPPY8",
        "outputId": "cbbdfd18-fd07-42f7-cc58-d6bc7751db4d"
      },
      "source": [
        "conta_do_guilherme > conta_da_daniela"
      ],
      "execution_count": 251,
      "outputs": [
        {
          "output_type": "execute_result",
          "data": {
            "text/plain": [
              "False"
            ]
          },
          "metadata": {
            "tags": []
          },
          "execution_count": 251
        }
      ]
    },
    {
      "cell_type": "code",
      "metadata": {
        "colab": {
          "base_uri": "https://localhost:8080/"
        },
        "id": "kcZtbabnPgNG",
        "outputId": "3acae1d7-4d41-46a8-f4d8-bd826dd38be1"
      },
      "source": [
        "conta_do_guilherme == conta_da_daniela"
      ],
      "execution_count": 252,
      "outputs": [
        {
          "output_type": "execute_result",
          "data": {
            "text/plain": [
              "False"
            ]
          },
          "metadata": {
            "tags": []
          },
          "execution_count": 252
        }
      ]
    },
    {
      "cell_type": "code",
      "metadata": {
        "colab": {
          "base_uri": "https://localhost:8080/"
        },
        "id": "Gkip7Ba0PijP",
        "outputId": "329eeef2-74c7-4890-fce5-c2297e9cfec1"
      },
      "source": [
        "conta_do_guilherme >= conta_da_daniela"
      ],
      "execution_count": 253,
      "outputs": [
        {
          "output_type": "execute_result",
          "data": {
            "text/plain": [
              "False"
            ]
          },
          "metadata": {
            "tags": []
          },
          "execution_count": 253
        }
      ]
    },
    {
      "cell_type": "code",
      "metadata": {
        "id": "MUri6Yg_QF7D"
      },
      "source": [
        ""
      ],
      "execution_count": null,
      "outputs": []
    }
  ]
}